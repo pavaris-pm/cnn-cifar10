{
  "cells": [
    {
      "cell_type": "markdown",
      "metadata": {
        "id": "1co9QUId36Eo"
      },
      "source": [
        "# Convolutional Neural Network for CIFAR10 dataset\n",
        "\n",
        "CIFAR10 is a small image classification dataset. Its objective is to classification an 32x32 color image into 10 classes.\n",
        "\n",
        "See https://www.cs.toronto.edu/~kriz/cifar.html and https://keras.io/api/datasets/cifar10/ for more details."
      ]
    },
    {
      "cell_type": "code",
      "execution_count": null,
      "metadata": {
        "id": "3zXtrgRH9oK5"
      },
      "outputs": [],
      "source": [
        "import tensorflow as tf\n",
        "import matplotlib.pyplot as plt\n",
        "import numpy as np"
      ]
    },
    {
      "cell_type": "code",
      "execution_count": null,
      "metadata": {
        "id": "ZMSl6MYp33eW",
        "colab": {
          "base_uri": "https://localhost:8080/"
        },
        "outputId": "25ba71d0-3b29-4efd-e403-8d9939416b86"
      },
      "outputs": [
        {
          "output_type": "stream",
          "name": "stdout",
          "text": [
            "Downloading data from https://www.cs.toronto.edu/~kriz/cifar-10-python.tar.gz\n",
            "170498071/170498071 [==============================] - 14s 0us/step\n"
          ]
        }
      ],
      "source": [
        "# Load CIFAR10 dataset\n",
        "(x, y), (x_test, y_test) = tf.keras.datasets.cifar10.load_data()\n",
        "y, y_test = y.flatten(), y_test.flatten()\n",
        "x = x / 255\n",
        "x_test = x_test / 255"
      ]
    },
    {
      "cell_type": "code",
      "source": [
        "print(x[0])"
      ],
      "metadata": {
        "colab": {
          "base_uri": "https://localhost:8080/"
        },
        "id": "pEnBAmAHojCQ",
        "outputId": "1cc54d3a-2c75-4a64-af85-87d423547f3c"
      },
      "execution_count": null,
      "outputs": [
        {
          "output_type": "stream",
          "name": "stdout",
          "text": [
            "[[[0.23137255 0.24313725 0.24705882]\n",
            "  [0.16862745 0.18039216 0.17647059]\n",
            "  [0.19607843 0.18823529 0.16862745]\n",
            "  ...\n",
            "  [0.61960784 0.51764706 0.42352941]\n",
            "  [0.59607843 0.49019608 0.4       ]\n",
            "  [0.58039216 0.48627451 0.40392157]]\n",
            "\n",
            " [[0.0627451  0.07843137 0.07843137]\n",
            "  [0.         0.         0.        ]\n",
            "  [0.07058824 0.03137255 0.        ]\n",
            "  ...\n",
            "  [0.48235294 0.34509804 0.21568627]\n",
            "  [0.46666667 0.3254902  0.19607843]\n",
            "  [0.47843137 0.34117647 0.22352941]]\n",
            "\n",
            " [[0.09803922 0.09411765 0.08235294]\n",
            "  [0.0627451  0.02745098 0.        ]\n",
            "  [0.19215686 0.10588235 0.03137255]\n",
            "  ...\n",
            "  [0.4627451  0.32941176 0.19607843]\n",
            "  [0.47058824 0.32941176 0.19607843]\n",
            "  [0.42745098 0.28627451 0.16470588]]\n",
            "\n",
            " ...\n",
            "\n",
            " [[0.81568627 0.66666667 0.37647059]\n",
            "  [0.78823529 0.6        0.13333333]\n",
            "  [0.77647059 0.63137255 0.10196078]\n",
            "  ...\n",
            "  [0.62745098 0.52156863 0.2745098 ]\n",
            "  [0.21960784 0.12156863 0.02745098]\n",
            "  [0.20784314 0.13333333 0.07843137]]\n",
            "\n",
            " [[0.70588235 0.54509804 0.37647059]\n",
            "  [0.67843137 0.48235294 0.16470588]\n",
            "  [0.72941176 0.56470588 0.11764706]\n",
            "  ...\n",
            "  [0.72156863 0.58039216 0.36862745]\n",
            "  [0.38039216 0.24313725 0.13333333]\n",
            "  [0.3254902  0.20784314 0.13333333]]\n",
            "\n",
            " [[0.69411765 0.56470588 0.45490196]\n",
            "  [0.65882353 0.50588235 0.36862745]\n",
            "  [0.70196078 0.55686275 0.34117647]\n",
            "  ...\n",
            "  [0.84705882 0.72156863 0.54901961]\n",
            "  [0.59215686 0.4627451  0.32941176]\n",
            "  [0.48235294 0.36078431 0.28235294]]]\n"
          ]
        }
      ]
    },
    {
      "cell_type": "code",
      "execution_count": null,
      "metadata": {
        "colab": {
          "base_uri": "https://localhost:8080/",
          "height": 283
        },
        "id": "Vwoz3JDK98Jy",
        "outputId": "63976160-24ca-4965-85c1-25ce3018fd14"
      },
      "outputs": [
        {
          "output_type": "display_data",
          "data": {
            "text/plain": [
              "<Figure size 432x288 with 1 Axes>"
            ],
            "image/png": "[encoded data removed]"
          },
          "metadata": {
            "needs_background": "light"
          }
        },
        {
          "output_type": "stream",
          "name": "stdout",
          "text": [
            "Class= 7\n"
          ]
        }
      ],
      "source": [
        "# Plot a training example\n",
        "plt.imshow(x[11, :, :, :])\n",
        "plt.show()\n",
        "print(f\"Class= {y[11]}\")        # 7 = horse"
      ]
    },
    {
      "cell_type": "code",
      "execution_count": null,
      "metadata": {
        "colab": {
          "base_uri": "https://localhost:8080/"
        },
        "id": "0U-8StsbXuxS",
        "outputId": "c0b6167f-d1ef-45e2-fff0-2ddc5a6424d8"
      },
      "outputs": [
        {
          "output_type": "stream",
          "name": "stdout",
          "text": [
            "Shape of the datasets\n",
            "Training set   = (40000, 32, 32, 3) (40000,)\n",
            "Validation set = (10000, 32, 32, 3) (10000,)\n",
            "Test set       = (10000, 32, 32, 3) (10000,)\n"
          ]
        }
      ],
      "source": [
        "# Split the training set\n",
        "from sklearn.model_selection import train_test_split\n",
        "\n",
        "X_train, X_valid, y_train, y_valid = train_test_split(x, y, test_size=0.2, random_state=11)\n",
        "X_test = x_test\n",
        "\n",
        "print(\"Shape of the datasets\")\n",
        "print(\"Training set   =\", X_train.shape, y_train.shape)\n",
        "print(\"Validation set =\", X_valid.shape, y_valid.shape)\n",
        "print(\"Test set       =\", X_test.shape, y_test.shape)"
      ]
    },
    {
      "cell_type": "code",
      "execution_count": null,
      "metadata": {
        "id": "qXcpd8nSXuxS"
      },
      "outputs": [],
      "source": [
        "# Use one-hot encoding for y\n",
        "Y_train = tf.one_hot(y_train, 10)\n",
        "Y_valid = tf.one_hot(y_valid, 10)\n",
        "Y_test = tf.one_hot(y_test, 10)"
      ]
    },
    {
      "cell_type": "code",
      "source": [
        "print(X_train[0].shape) # checking shape of the first image in training set"
      ],
      "metadata": {
        "colab": {
          "base_uri": "https://localhost:8080/"
        },
        "id": "4rs8REFeZMSN",
        "outputId": "c0df5bf3-57dc-459f-f1e9-1d283ae1a12a"
      },
      "execution_count": null,
      "outputs": [
        {
          "output_type": "stream",
          "name": "stdout",
          "text": [
            "(32, 32, 3)\n"
          ]
        }
      ]
    },
    {
      "cell_type": "code",
      "execution_count": null,
      "metadata": {
        "id": "mTrbgdtZknEM"
      },
      "outputs": [],
      "source": [
        "# Your implementation for Question 2\n",
        "# import needed libraries\n",
        "import tensorflow as tf\n",
        "import numpy as np\n",
        "import pandas as pd\n",
        "import torchvision.transforms as transforms\n",
        "import matplotlib.pyplot as plt\n",
        "from tensorflow.keras.callbacks import EarlyStopping\n",
        "%matplotlib inline"
      ]
    },
    {
      "cell_type": "code",
      "source": [
        "# Load CIFAR10 dataset\n",
        "(X_train, y_train), (X_test, y_test) = tf.keras.datasets.cifar10.load_data()\n",
        "X_train = X_train / 255\n",
        "X_test = X_test / 255\n",
        "\n",
        "y_train, y_test = y_train.flatten(), y_test.flatten()"
      ],
      "metadata": {
        "id": "XDIxeBb6ivbl",
        "colab": {
          "base_uri": "https://localhost:8080/"
        },
        "outputId": "a1586d98-a6d4-4911-9a79-b8bb6cda67d0"
      },
      "execution_count": null,
      "outputs": [
        {
          "output_type": "stream",
          "name": "stdout",
          "text": [
            "Downloading data from https://www.cs.toronto.edu/~kriz/cifar-10-python.tar.gz\n",
            "170498071/170498071 [==============================] - 3s 0us/step\n"
          ]
        }
      ]
    },
    {
      "cell_type": "code",
      "source": [
        "#print(X_train[0])"
      ],
      "metadata": {
        "id": "qmzoomCroX__"
      },
      "execution_count": null,
      "outputs": []
    },
    {
      "cell_type": "code",
      "source": [
        "from sklearn.model_selection import train_test_split"
      ],
      "metadata": {
        "id": "ToQ4YMmLjPJ4"
      },
      "execution_count": null,
      "outputs": []
    },
    {
      "cell_type": "code",
      "source": [
        "X_train, X_valid, y_train, y_valid = train_test_split(X_train, y_train,\n",
        "                                                      test_size = 0.1,\n",
        "                                                      shuffle = True,\n",
        "                                                      random_state = 6299)"
      ],
      "metadata": {
        "id": "uHZnWS9Gjsnw"
      },
      "execution_count": null,
      "outputs": []
    },
    {
      "cell_type": "code",
      "source": [
        "print(X_train.shape, y_train.shape)"
      ],
      "metadata": {
        "colab": {
          "base_uri": "https://localhost:8080/"
        },
        "id": "VBa2a2kQi8jH",
        "outputId": "33eecde9-b882-411f-c3ac-e1723176de55"
      },
      "execution_count": null,
      "outputs": [
        {
          "output_type": "stream",
          "name": "stdout",
          "text": [
            "(45000, 32, 32, 3) (45000,)\n"
          ]
        }
      ]
    },
    {
      "cell_type": "code",
      "source": [
        "# check data provied\n",
        "# to display an image before normalization\n",
        "plt.imshow(X_train[0, :, :, :])\n",
        "plt.show()"
      ],
      "metadata": {
        "colab": {
          "base_uri": "https://localhost:8080/",
          "height": 266
        },
        "id": "T_wgccwkgj7X",
        "outputId": "d5d86ba8-e73d-4361-ac87-4e7af0e94c03"
      },
      "execution_count": null,
      "outputs": [
        {
          "output_type": "display_data",
          "data": {
            "text/plain": [
              "<Figure size 432x288 with 1 Axes>"
            ],
            "image/png": "[encoded data removed]"
          },
          "metadata": {
            "needs_background": "light"
          }
        }
      ]
    },
    {
      "cell_type": "code",
      "source": [
        "# Use one-hot encoding for y\n",
        "y_train = tf.one_hot(y_train, 10)\n",
        "y_valid = tf.one_hot(y_valid, 10)\n",
        "y_test = tf.one_hot(y_test, 10)"
      ],
      "metadata": {
        "id": "KbklLVWM4Ylx"
      },
      "execution_count": null,
      "outputs": []
    },
    {
      "cell_type": "code",
      "source": [
        "data_generator = tf.keras.preprocessing.image.ImageDataGenerator(\n",
        "  width_shift_range=0.1, height_shift_range=0.1, horizontal_flip=True)\n",
        " \n",
        "train_generator = data_generator.flow(X_train, y_train, 4096)\n"
      ],
      "metadata": {
        "id": "uwW7AiYBisHF"
      },
      "execution_count": null,
      "outputs": []
    },
    {
      "cell_type": "code",
      "source": [
        "input = tf.keras.layers.Input(shape=(32,32,3))"
      ],
      "metadata": {
        "id": "rx-gyrzD0mwk"
      },
      "execution_count": null,
      "outputs": []
    },
    {
      "cell_type": "code",
      "source": [
        "# the first weak learner for feature extractor\n",
        "x1 = tf.keras.layers.Conv2D(32, (3,3),input_shape=(32,32,3), padding='same', activation='relu')(input)\n",
        "x1 = tf.keras.layers.BatchNormalization()(x1)\n",
        "x1 = tf.keras.layers.Conv2D(32, (3,3), padding='same', activation='relu')(x1)\n",
        "x1 = tf.keras.layers.BatchNormalization()(x1)\n",
        "x1 = tf.keras.layers.MaxPooling2D(pool_size=(2,2))(x1)\n",
        "x1 = tf.keras.layers.Dropout(0.3)(x1)\n",
        "\n",
        "x1 = tf.keras.layers.Conv2D(64, (3,3), padding='same', activation='relu')(x1)\n",
        "x1 = tf.keras.layers.BatchNormalization()(x1)\n",
        "x1 = tf.keras.layers.Conv2D(64, (3,3), padding='same', activation='relu')(x1)\n",
        "x1 = tf.keras.layers.BatchNormalization()(x1)\n",
        "x1 = tf.keras.layers.MaxPooling2D(pool_size=(2,2))(x1)\n",
        "x1 = tf.keras.layers.Dropout(0.5)(x1)\n",
        "\n",
        "x1 = tf.keras.layers.Conv2D(128, (3,3), padding='same', activation='relu')(x1)\n",
        "x1 = tf.keras.layers.BatchNormalization()(x1)\n",
        "x1 = tf.keras.layers.Conv2D(128, (3,3), padding='same', activation='relu')(x1)\n",
        "x1 = tf.keras.layers.BatchNormalization()(x1)\n",
        "x1 = tf.keras.layers.MaxPooling2D(pool_size=(2,2))(x1)\n",
        "x1 = tf.keras.layers.Dropout(0.5)(x1)\n",
        "\n",
        "\n",
        "# the second weak learner for feature extractor\n",
        "x2 =  tf.keras.layers.Conv2D(32, (3, 3),input_shape=(32,32,3), activation='relu', padding='same')(input)\n",
        "x2 = tf.keras.layers.BatchNormalization()(x2)\n",
        "x2 = tf.keras.layers.Conv2D(32, (3, 3), activation='relu', padding='same')(x2)\n",
        "x2 = tf.keras.layers.BatchNormalization()(x2)\n",
        "x2 = tf.keras.layers.MaxPooling2D((2, 2))(x2)\n",
        " \n",
        "x2 = tf.keras.layers.Conv2D(64, (3, 3), activation='relu', padding='same')(x2)\n",
        "x2 = tf.keras.layers.BatchNormalization()(x2)\n",
        "x2 = tf.keras.layers.Conv2D(64, (3, 3), activation='relu', padding='same')(x2)\n",
        "x2 = tf.keras.layers.BatchNormalization()(x2)\n",
        "x2 = tf.keras.layers.MaxPooling2D((2, 2))(x2)\n",
        " \n",
        "x2 = tf.keras.layers.Conv2D(128, (3, 3), activation='relu', padding='same')(x2)\n",
        "x2 = tf.keras.layers.BatchNormalization()(x2)\n",
        "x2 = tf.keras.layers.Conv2D(128, (3, 3), activation='relu', padding='same')(x2)\n",
        "x2 = tf.keras.layers.BatchNormalization()(x2)\n",
        "x2 = tf.keras.layers.MaxPooling2D((2, 2))(x2)\n",
        "\n",
        "x = tf.keras.layers.Add()([x1, x2])\n",
        "outputs = tf.keras.layers.GlobalMaxPooling2D()(x)\n",
        "outputs = tf.keras.layers.Dropout(0.1)(outputs)\n",
        "outputs = tf.keras.layers.Dense(128,\n",
        "                                activation='relu',\n",
        "                                kernel_regularizer=tf.keras.regularizers.l2(0.05))(outputs)\n",
        "outputs = tf.keras.layers.Dense(activation='relu', \n",
        "                                units=64,\n",
        "                                kernel_regularizer=tf.keras.regularizers.l2(0.05), \n",
        "                                bias_regularizer=tf.keras.regularizers.L2(0.05))(outputs)\n",
        "outputs = tf.keras.layers.Dense(10, activation='softmax')(outputs)\n",
        "\n",
        "model = tf.keras.Model(input, outputs)"
      ],
      "metadata": {
        "id": "pw6Ay3_TtKOK"
      },
      "execution_count": null,
      "outputs": []
    },
    {
      "cell_type": "code",
      "source": [
        "model.summary()"
      ],
      "metadata": {
        "colab": {
          "base_uri": "https://localhost:8080/"
        },
        "id": "mr_f4qcj1zHe",
        "outputId": "bbea3fa6-90a0-4c4a-8c37-8ec16ccd058d"
      },
      "execution_count": null,
      "outputs": [
        {
          "output_type": "stream",
          "name": "stdout",
          "text": [
            "Model: \"model\"\n",
            "__________________________________________________________________________________________________\n",
            " Layer (type)                   Output Shape         Param #     Connected to                     \n",
            "==================================================================================================\n",
            " input_1 (InputLayer)           [(None, 32, 32, 3)]  0           []                               \n",
            "                                                                                                  \n",
            " conv2d (Conv2D)                (None, 32, 32, 32)   896         ['input_1[0][0]']                \n",
            "                                                                                                  \n",
            " batch_normalization (BatchNorm  (None, 32, 32, 32)  128         ['conv2d[0][0]']                 \n",
            " alization)                                                                                       \n",
            "                                                                                                  \n",
            " conv2d_1 (Conv2D)              (None, 32, 32, 32)   9248        ['batch_normalization[0][0]']    \n",
            "                                                                                                  \n",
            " batch_normalization_1 (BatchNo  (None, 32, 32, 32)  128         ['conv2d_1[0][0]']               \n",
            " rmalization)                                                                                     \n",
            "                                                                                                  \n",
            " conv2d_6 (Conv2D)              (None, 32, 32, 32)   896         ['input_1[0][0]']                \n",
            "                                                                                                  \n",
            " max_pooling2d (MaxPooling2D)   (None, 16, 16, 32)   0           ['batch_normalization_1[0][0]']  \n",
            "                                                                                                  \n",
            " batch_normalization_6 (BatchNo  (None, 32, 32, 32)  128         ['conv2d_6[0][0]']               \n",
            " rmalization)                                                                                     \n",
            "                                                                                                  \n",
            " dropout (Dropout)              (None, 16, 16, 32)   0           ['max_pooling2d[0][0]']          \n",
            "                                                                                                  \n",
            " conv2d_7 (Conv2D)              (None, 32, 32, 32)   9248        ['batch_normalization_6[0][0]']  \n",
            "                                                                                                  \n",
            " conv2d_2 (Conv2D)              (None, 16, 16, 64)   18496       ['dropout[0][0]']                \n",
            "                                                                                                  \n",
            " batch_normalization_7 (BatchNo  (None, 32, 32, 32)  128         ['conv2d_7[0][0]']               \n",
            " rmalization)                                                                                     \n",
            "                                                                                                  \n",
            " batch_normalization_2 (BatchNo  (None, 16, 16, 64)  256         ['conv2d_2[0][0]']               \n",
            " rmalization)                                                                                     \n",
            "                                                                                                  \n",
            " max_pooling2d_3 (MaxPooling2D)  (None, 16, 16, 32)  0           ['batch_normalization_7[0][0]']  \n",
            "                                                                                                  \n",
            " conv2d_3 (Conv2D)              (None, 16, 16, 64)   36928       ['batch_normalization_2[0][0]']  \n",
            "                                                                                                  \n",
            " conv2d_8 (Conv2D)              (None, 16, 16, 64)   18496       ['max_pooling2d_3[0][0]']        \n",
            "                                                                                                  \n",
            " batch_normalization_3 (BatchNo  (None, 16, 16, 64)  256         ['conv2d_3[0][0]']               \n",
            " rmalization)                                                                                     \n",
            "                                                                                                  \n",
            " batch_normalization_8 (BatchNo  (None, 16, 16, 64)  256         ['conv2d_8[0][0]']               \n",
            " rmalization)                                                                                     \n",
            "                                                                                                  \n",
            " max_pooling2d_1 (MaxPooling2D)  (None, 8, 8, 64)    0           ['batch_normalization_3[0][0]']  \n",
            "                                                                                                  \n",
            " conv2d_9 (Conv2D)              (None, 16, 16, 64)   36928       ['batch_normalization_8[0][0]']  \n",
            "                                                                                                  \n",
            " dropout_1 (Dropout)            (None, 8, 8, 64)     0           ['max_pooling2d_1[0][0]']        \n",
            "                                                                                                  \n",
            " batch_normalization_9 (BatchNo  (None, 16, 16, 64)  256         ['conv2d_9[0][0]']               \n",
            " rmalization)                                                                                     \n",
            "                                                                                                  \n",
            " conv2d_4 (Conv2D)              (None, 8, 8, 128)    73856       ['dropout_1[0][0]']              \n",
            "                                                                                                  \n",
            " max_pooling2d_4 (MaxPooling2D)  (None, 8, 8, 64)    0           ['batch_normalization_9[0][0]']  \n",
            "                                                                                                  \n",
            " batch_normalization_4 (BatchNo  (None, 8, 8, 128)   512         ['conv2d_4[0][0]']               \n",
            " rmalization)                                                                                     \n",
            "                                                                                                  \n",
            " conv2d_10 (Conv2D)             (None, 8, 8, 128)    73856       ['max_pooling2d_4[0][0]']        \n",
            "                                                                                                  \n",
            " conv2d_5 (Conv2D)              (None, 8, 8, 128)    147584      ['batch_normalization_4[0][0]']  \n",
            "                                                                                                  \n",
            " batch_normalization_10 (BatchN  (None, 8, 8, 128)   512         ['conv2d_10[0][0]']              \n",
            " ormalization)                                                                                    \n",
            "                                                                                                  \n",
            " batch_normalization_5 (BatchNo  (None, 8, 8, 128)   512         ['conv2d_5[0][0]']               \n",
            " rmalization)                                                                                     \n",
            "                                                                                                  \n",
            " conv2d_11 (Conv2D)             (None, 8, 8, 128)    147584      ['batch_normalization_10[0][0]'] \n",
            "                                                                                                  \n",
            " max_pooling2d_2 (MaxPooling2D)  (None, 4, 4, 128)   0           ['batch_normalization_5[0][0]']  \n",
            "                                                                                                  \n",
            " batch_normalization_11 (BatchN  (None, 8, 8, 128)   512         ['conv2d_11[0][0]']              \n",
            " ormalization)                                                                                    \n",
            "                                                                                                  \n",
            " dropout_2 (Dropout)            (None, 4, 4, 128)    0           ['max_pooling2d_2[0][0]']        \n",
            "                                                                                                  \n",
            " max_pooling2d_5 (MaxPooling2D)  (None, 4, 4, 128)   0           ['batch_normalization_11[0][0]'] \n",
            "                                                                                                  \n",
            " add (Add)                      (None, 4, 4, 128)    0           ['dropout_2[0][0]',              \n",
            "                                                                  'max_pooling2d_5[0][0]']        \n",
            "                                                                                                  \n",
            " global_max_pooling2d (GlobalMa  (None, 128)         0           ['add[0][0]']                    \n",
            " xPooling2D)                                                                                      \n",
            "                                                                                                  \n",
            " dropout_3 (Dropout)            (None, 128)          0           ['global_max_pooling2d[0][0]']   \n",
            "                                                                                                  \n",
            " dense (Dense)                  (None, 128)          16512       ['dropout_3[0][0]']              \n",
            "                                                                                                  \n",
            " dense_1 (Dense)                (None, 64)           8256        ['dense[0][0]']                  \n",
            "                                                                                                  \n",
            " dense_2 (Dense)                (None, 10)           650         ['dense_1[0][0]']                \n",
            "                                                                                                  \n",
            "==================================================================================================\n",
            "Total params: 603,018\n",
            "Trainable params: 601,226\n",
            "Non-trainable params: 1,792\n",
            "__________________________________________________________________________________________________\n"
          ]
        }
      ]
    },
    {
      "cell_type": "code",
      "source": [
        "model.compile(optimizer=tf.keras.optimizers.Adam(25e-3), loss='categorical_crossentropy', metrics=['accuracy'])"
      ],
      "metadata": {
        "id": "PRcgMvi7182C"
      },
      "execution_count": null,
      "outputs": []
    },
    {
      "cell_type": "code",
      "source": [
        "hist2 = model.fit(train_generator, \n",
        "                  batch_size=4096, \n",
        "                  validation_data=(X_valid, y_valid), \n",
        "                  epochs=100,\n",
        "                  callbacks=[EarlyStopping(monitor='val_loss', min_delta=0.001, patience=5, verbose=1)],\n",
        "                  shuffle=True)"
      ],
      "metadata": {
        "colab": {
          "base_uri": "https://localhost:8080/"
        },
        "id": "yY1GIQ002cKO",
        "outputId": "d7e1a19c-80b3-4566-905a-e66ae08d0d14"
      },
      "execution_count": null,
      "outputs": [
        {
          "output_type": "stream",
          "name": "stdout",
          "text": [
            "Epoch 1/100\n",
            "11/11 [==============================] - 23s 2s/step - loss: 4.8001 - accuracy: 0.5895 - val_loss: 7.5464 - val_accuracy: 0.3680\n",
            "Epoch 2/100\n",
            "11/11 [==============================] - 21s 2s/step - loss: 4.1673 - accuracy: 0.7435 - val_loss: 7.0764 - val_accuracy: 0.5028\n",
            "Epoch 3/100\n",
            "11/11 [==============================] - 21s 2s/step - loss: 2.8944 - accuracy: 0.8078 - val_loss: 4.0214 - val_accuracy: 0.6498\n",
            "Epoch 4/100\n",
            "11/11 [==============================] - 20s 2s/step - loss: 1.8261 - accuracy: 0.8427 - val_loss: 2.4743 - val_accuracy: 0.7234\n",
            "Epoch 5/100\n",
            "11/11 [==============================] - 21s 2s/step - loss: 1.2063 - accuracy: 0.8645 - val_loss: 1.7176 - val_accuracy: 0.7440\n",
            "Epoch 6/100\n",
            "11/11 [==============================] - 20s 2s/step - loss: 0.8650 - accuracy: 0.8804 - val_loss: 1.0645 - val_accuracy: 0.8130\n",
            "Epoch 7/100\n",
            "11/11 [==============================] - 21s 2s/step - loss: 0.6567 - accuracy: 0.8939 - val_loss: 0.8563 - val_accuracy: 0.8258\n",
            "Epoch 8/100\n",
            "11/11 [==============================] - 20s 2s/step - loss: 0.5326 - accuracy: 0.9034 - val_loss: 0.8227 - val_accuracy: 0.8178\n",
            "Epoch 9/100\n",
            "11/11 [==============================] - 20s 2s/step - loss: 0.4546 - accuracy: 0.9105 - val_loss: 0.6992 - val_accuracy: 0.8272\n",
            "Epoch 10/100\n",
            "11/11 [==============================] - 20s 2s/step - loss: 0.4052 - accuracy: 0.9148 - val_loss: 0.6524 - val_accuracy: 0.8428\n",
            "Epoch 11/100\n",
            "11/11 [==============================] - 21s 2s/step - loss: 0.3628 - accuracy: 0.9220 - val_loss: 0.6287 - val_accuracy: 0.8396\n",
            "Epoch 12/100\n",
            "11/11 [==============================] - 20s 2s/step - loss: 0.3382 - accuracy: 0.9232 - val_loss: 0.6097 - val_accuracy: 0.8408\n",
            "Epoch 13/100\n",
            "11/11 [==============================] - 20s 2s/step - loss: 0.3284 - accuracy: 0.9235 - val_loss: 0.6274 - val_accuracy: 0.8346\n",
            "Epoch 14/100\n",
            "11/11 [==============================] - 20s 2s/step - loss: 0.3099 - accuracy: 0.9274 - val_loss: 0.5872 - val_accuracy: 0.8420\n",
            "Epoch 15/100\n",
            "11/11 [==============================] - 20s 2s/step - loss: 0.2952 - accuracy: 0.9305 - val_loss: 0.5977 - val_accuracy: 0.8392\n",
            "Epoch 16/100\n",
            "11/11 [==============================] - 20s 2s/step - loss: 0.2817 - accuracy: 0.9312 - val_loss: 0.5760 - val_accuracy: 0.8426\n",
            "Epoch 17/100\n",
            "11/11 [==============================] - 20s 2s/step - loss: 0.2727 - accuracy: 0.9326 - val_loss: 0.6417 - val_accuracy: 0.8278\n",
            "Epoch 18/100\n",
            "11/11 [==============================] - 21s 2s/step - loss: 0.2592 - accuracy: 0.9368 - val_loss: 0.6384 - val_accuracy: 0.8312\n",
            "Epoch 19/100\n",
            "11/11 [==============================] - 21s 2s/step - loss: 0.2517 - accuracy: 0.9381 - val_loss: 0.6008 - val_accuracy: 0.8430\n",
            "Epoch 20/100\n",
            "11/11 [==============================] - 21s 2s/step - loss: 0.2519 - accuracy: 0.9392 - val_loss: 0.5595 - val_accuracy: 0.8448\n",
            "Epoch 21/100\n",
            "11/11 [==============================] - 21s 2s/step - loss: 0.2475 - accuracy: 0.9377 - val_loss: 0.5516 - val_accuracy: 0.8470\n",
            "Epoch 22/100\n",
            "11/11 [==============================] - 20s 2s/step - loss: 0.2550 - accuracy: 0.9357 - val_loss: 0.5815 - val_accuracy: 0.8490\n",
            "Epoch 23/100\n",
            "11/11 [==============================] - 20s 2s/step - loss: 0.2479 - accuracy: 0.9368 - val_loss: 0.5528 - val_accuracy: 0.8482\n",
            "Epoch 24/100\n",
            "11/11 [==============================] - 20s 2s/step - loss: 0.2522 - accuracy: 0.9332 - val_loss: 0.5538 - val_accuracy: 0.8514\n",
            "Epoch 25/100\n",
            "11/11 [==============================] - 20s 2s/step - loss: 0.2403 - accuracy: 0.9397 - val_loss: 0.5201 - val_accuracy: 0.8672\n",
            "Epoch 26/100\n",
            "11/11 [==============================] - 20s 2s/step - loss: 0.2346 - accuracy: 0.9413 - val_loss: 0.5904 - val_accuracy: 0.8406\n",
            "Epoch 27/100\n",
            "11/11 [==============================] - 20s 2s/step - loss: 0.2344 - accuracy: 0.9398 - val_loss: 0.6014 - val_accuracy: 0.8422\n",
            "Epoch 28/100\n",
            "11/11 [==============================] - 20s 2s/step - loss: 0.2284 - accuracy: 0.9408 - val_loss: 0.6479 - val_accuracy: 0.8244\n",
            "Epoch 29/100\n",
            "11/11 [==============================] - 20s 2s/step - loss: 0.2303 - accuracy: 0.9422 - val_loss: 0.6225 - val_accuracy: 0.8380\n",
            "Epoch 30/100\n",
            "11/11 [==============================] - 20s 2s/step - loss: 0.2316 - accuracy: 0.9409 - val_loss: 0.6183 - val_accuracy: 0.8390\n",
            "Epoch 30: early stopping\n"
          ]
        }
      ]
    },
    {
      "cell_type": "code",
      "execution_count": null,
      "metadata": {
        "id": "nN2z77iAkpft",
        "colab": {
          "base_uri": "https://localhost:8080/",
          "height": 279
        },
        "outputId": "080aa9c3-9139-474a-e2ab-1b7c49291ded"
      },
      "outputs": [
        {
          "output_type": "display_data",
          "data": {
            "text/plain": [
              "<Figure size 432x288 with 1 Axes>"
            ],
            "image/png": "[encoded data removed]"
          },
          "metadata": {
            "needs_background": "light"
          }
        }
      ],
      "source": [
        "# Plot the training loss and validation loss\n",
        "N = len(hist2.history['loss'])\n",
        "plt.plot(np.arange(N), hist2.history['loss'])\n",
        "plt.plot(np.arange(N), hist2.history['val_loss'])\n",
        "plt.ylabel('loss')\n",
        "plt.xlabel('epoch')\n",
        "plt.legend(['training_loss', 'val_loss'], loc='upper right')\n",
        "plt.show()"
      ]
    },
    {
      "cell_type": "code",
      "source": [
        "res = model.evaluate(X_train, y_train, verbose=0, batch_size=2048)\n",
        "print(f\"Training accuracy   = {res[1]:.4f}\")\n",
        "res = model.evaluate(X_valid, y_valid, verbose=0, batch_size=2048)\n",
        "print(f\"Validation accuracy = {res[1]:.4f}\")\n",
        "res = model.evaluate(X_test, y_test, verbose=0, batch_size=2048)\n",
        "print(f\"Test accuracy       = {res[1]:.4f}\")"
      ],
      "metadata": {
        "colab": {
          "base_uri": "https://localhost:8080/"
        },
        "id": "vH8CjDQsKWch",
        "outputId": "4a09b5bf-2d0a-42ae-b0c5-c1e2d35f34d9"
      },
      "execution_count": null,
      "outputs": [
        {
          "output_type": "stream",
          "name": "stdout",
          "text": [
            "Training accuracy   = 0.9108\n",
            "Validation accuracy = 0.8390\n",
            "Test accuracy       = 0.8339\n"
          ]
        }
      ]
    }
  ],
  "metadata": {
    "colab": {
      "provenance": []
    },
    "kernelspec": {
      "display_name": "Python 3 (ipykernel)",
      "language": "python",
      "name": "python3"
    },
    "language_info": {
      "codemirror_mode": {
        "name": "ipython",
        "version": 3
      },
      "file_extension": ".py",
      "mimetype": "text/x-python",
      "name": "python",
      "nbconvert_exporter": "python",
      "pygments_lexer": "ipython3",
      "version": "3.10.6"
    },
    "gpuClass": "standard",
    "accelerator": "GPU"
  },
  "nbformat": 4,
  "nbformat_minor": 0
}